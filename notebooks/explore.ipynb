{
 "cells": [
  {
   "cell_type": "markdown",
   "id": "7c8830b3-cb79-498e-b936-047e93f6820e",
   "metadata": {},
   "source": [
    "# Explore 311 Requests\n",
    "\n",
    "This notebook is a simplified companion to bulky-items-choropleth.ipynb.  It can be used to select a request type and visualize with the comparison choropleths and the animated heat map.  It is a bit mechanical for starters."
   ]
  },
  {
   "cell_type": "code",
   "execution_count": null,
   "id": "3b767e3f-8036-46e1-95d8-9b54dcf548e1",
   "metadata": {},
   "outputs": [],
   "source": [
    "import pandas as pd\n",
    "import geopandas as gpd\n",
    "\n",
    "from ipywidgets import Output, HBox, interactive\n",
    "\n",
    "from collections import defaultdict, OrderedDict\n",
    "\n",
    "import sys\n",
    "sys.path.append('../src')\n",
    "\n",
    "from lasan import AnimatedMap, nc_choropleth"
   ]
  },
  {
   "cell_type": "markdown",
   "id": "d0aee719-d441-4725-bac3-d06ba414d1be",
   "metadata": {},
   "source": [
    "# Data Setup\n",
    "\n",
    "I processed the data and transformed to parquet files.  They seem to be quite efficient and fast.\n",
    "\n",
    "This section covers the two sources used:\n",
    "\n",
    "1. The 311 data is a subset of the entire 2021 data.  After I read it, I show a couple of summary charts/statistics.  Finally I create a specific subset for Bulky Items.  **Note:** Now we may need to focus on Illegal Dumping?  Will need to refactor a bit so it can be parameterized for the choropleths.\n",
    "2. The Neighorhood Council data is polygon data from data.lacity.org.  I add the 311 counts per NC for the first choropleth.  After that I use polygon information to compute square miles for the NC and use that for the density."
   ]
  },
  {
   "cell_type": "code",
   "execution_count": null,
   "id": "ea8620a2-f4e1-4630-999f-8d83df645ca5",
   "metadata": {
    "tags": []
   },
   "outputs": [],
   "source": [
    "%%time\n",
    "thin_gdf = gpd.read_parquet('../data/thin2.parq')\n",
    "\n",
    "neighborhoods_gdf = gpd.read_parquet('../data/nc.parq')"
   ]
  },
  {
   "cell_type": "markdown",
   "id": "db337a21-df04-4f39-ad32-93929b26efea",
   "metadata": {},
   "source": [
    "This shows the distribution of request types for 2021."
   ]
  },
  {
   "cell_type": "code",
   "execution_count": null,
   "id": "1cd8ce75-1028-48ed-bc11-ac0849c1bc70",
   "metadata": {},
   "outputs": [],
   "source": [
    "thin_gdf.request_type.value_counts().plot.barh(figsize=(8, 4));"
   ]
  },
  {
   "cell_type": "markdown",
   "id": "bd5c5b45-3587-4903-a480-17effab836af",
   "metadata": {},
   "source": [
    "Use the chart above to identify a request type to explore.  Change the request_type variable in the next cell.\n",
    "\n",
    "**Note:** I combined cells so once you select a different request_type it is simple to execute the next two cells to see the results."
   ]
  },
  {
   "cell_type": "code",
   "execution_count": null,
   "id": "6ad13074-58af-4184-99c3-9025af1be796",
   "metadata": {},
   "outputs": [],
   "source": [
    "request_type = 'Illegal Dumping Pickup'\n",
    "request_gdf = thin_gdf.query(f\"request_type == @request_type\").reset_index().drop(columns=['index'])\n",
    "\n",
    "request_counts = request_gdf['nc'].value_counts().to_frame().reset_index().rename(columns={'index': 'nc_id', 'nc': 'count'})\n",
    "\n",
    "request_merged_gdf = pd.merge(neighborhoods_gdf, request_counts, how=\"left\", on=[\"nc_id\"])\n",
    "\n",
    "request_gdf['day'] = request_gdf['created_dt'].apply(lambda dt: dt.date().strftime(\"%m-%d (%A)\"))\n",
    "\n",
    "from pyproj import Geod\n",
    "\n",
    "geod = Geod(ellps=\"WGS84\")\n",
    "\n",
    "def square_miles(geo):\n",
    "    square_meters = abs(geod.geometry_area_perimeter(geo)[0])\n",
    "    return (square_meters * 10.764) / 27878000\n",
    "\n",
    "request_merged_gdf['sq_miles'] = request_merged_gdf.apply(lambda row: square_miles(row.geometry), axis=1)\n",
    "\n",
    "request_merged_gdf['density'] = request_merged_gdf.apply(lambda row: round((row['count'] / row['sq_miles']), 2) , axis=1)\n",
    "\n",
    "choropleth_map = nc_choropleth(request_merged_gdf, \"count\", ['nc_id','count'])\n",
    "density_choropleth_map = nc_choropleth(request_merged_gdf, \"density\", ['nc_id','density'])\n",
    "\n",
    "\n",
    "count_output = Output(layout={'border': '1px solid black',\n",
    "                            'width': '50%'})\n",
    "\n",
    "density_output = Output(layout={'border': '1px solid black',\n",
    "                            'width': '50%'})\n",
    "\n",
    "with count_output:\n",
    "    display(choropleth_map)\n",
    "\n",
    "with density_output:\n",
    "    display(density_choropleth_map)\n",
    "\n",
    "print('\\nMaps for request type: ' + request_type + '\\n\\n')\n",
    "HBox([count_output, density_output])"
   ]
  },
  {
   "cell_type": "markdown",
   "id": "9e351532-6268-4f11-8970-a4854f6455b6",
   "metadata": {},
   "source": [
    "# Animated Heat Map\n",
    "\n",
    "The final map visualization.  \n",
    "\n",
    "  1. The 311 calls have be entended with day of the week for the timeline.\n",
    "  2. The NC polygons provide context and map navigation.\n",
    "  \n",
    "Pretty basic use of the HeatMapWithTime plugin from folium"
   ]
  },
  {
   "cell_type": "markdown",
   "id": "8c4b3957-1abc-47b6-b166-edf5da11b50d",
   "metadata": {},
   "source": [
    "I've wrapped the display in the interactive widget.  The pick list is sorted by count."
   ]
  },
  {
   "cell_type": "code",
   "execution_count": null,
   "id": "c3951af5-f5c2-4e3e-924e-c51e3419bc5b",
   "metadata": {},
   "outputs": [],
   "source": [
    "an_map = AnimatedMap(observations=request_gdf, boundaries=neighborhoods_gdf)\n",
    "\n",
    "def silly(nc_name):\n",
    "    an_map.nc(nc_name)\n",
    "    display(an_map.nc_hmap)\n",
    "\n",
    "w = interactive(silly, nc_name=request_merged_gdf.sort_values(by=['count'], ascending=False).name.to_list())\n",
    "\n",
    "w"
   ]
  },
  {
   "cell_type": "code",
   "execution_count": null,
   "id": "f857e8ce-54bc-48c2-b780-8682711be55d",
   "metadata": {},
   "outputs": [],
   "source": []
  }
 ],
 "metadata": {
  "kernelspec": {
   "display_name": "Python 3 (ipykernel)",
   "language": "python",
   "name": "python3"
  },
  "language_info": {
   "codemirror_mode": {
    "name": "ipython",
    "version": 3
   },
   "file_extension": ".py",
   "mimetype": "text/x-python",
   "name": "python",
   "nbconvert_exporter": "python",
   "pygments_lexer": "ipython3",
   "version": "3.9.10"
  }
 },
 "nbformat": 4,
 "nbformat_minor": 5
}
